{
 "cells": [
  {
   "cell_type": "code",
   "execution_count": 2,
   "id": "f7aabddd",
   "metadata": {},
   "outputs": [],
   "source": [
    "import numpy as np\n",
    "import pandas as pd"
   ]
  },
  {
   "cell_type": "code",
   "execution_count": 3,
   "id": "9bdee60d",
   "metadata": {},
   "outputs": [],
   "source": [
    "movies=pd.read_csv('Dataset_Tmdb.csv')\n",
    "movies = movies.copy() "
   ]
  },
  {
   "cell_type": "code",
   "execution_count": 4,
   "id": "7740a9a4",
   "metadata": {},
   "outputs": [
    {
     "data": {
      "text/html": [
       "<div>\n",
       "<style scoped>\n",
       "    .dataframe tbody tr th:only-of-type {\n",
       "        vertical-align: middle;\n",
       "    }\n",
       "\n",
       "    .dataframe tbody tr th {\n",
       "        vertical-align: top;\n",
       "    }\n",
       "\n",
       "    .dataframe thead th {\n",
       "        text-align: right;\n",
       "    }\n",
       "</style>\n",
       "<table border=\"1\" class=\"dataframe\">\n",
       "  <thead>\n",
       "    <tr style=\"text-align: right;\">\n",
       "      <th></th>\n",
       "      <th>Id</th>\n",
       "      <th>Title</th>\n",
       "      <th>Tag</th>\n",
       "    </tr>\n",
       "  </thead>\n",
       "  <tbody>\n",
       "    <tr>\n",
       "      <th>0</th>\n",
       "      <td>135397</td>\n",
       "      <td>Jurassic World</td>\n",
       "      <td>Twenty-two years after the events of Jurassic ...</td>\n",
       "    </tr>\n",
       "    <tr>\n",
       "      <th>1</th>\n",
       "      <td>76341</td>\n",
       "      <td>Mad Max: Fury Road</td>\n",
       "      <td>An apocalyptic story set in the furthest reach...</td>\n",
       "    </tr>\n",
       "    <tr>\n",
       "      <th>2</th>\n",
       "      <td>262500</td>\n",
       "      <td>Insurgent</td>\n",
       "      <td>Beatrice Prior must confront her inner demons ...</td>\n",
       "    </tr>\n",
       "    <tr>\n",
       "      <th>3</th>\n",
       "      <td>140607</td>\n",
       "      <td>Star Wars: The Force Awakens</td>\n",
       "      <td>Thirty years after defeating the Galactic Empi...</td>\n",
       "    </tr>\n",
       "    <tr>\n",
       "      <th>4</th>\n",
       "      <td>168259</td>\n",
       "      <td>Furious 7</td>\n",
       "      <td>Deckard Shaw seeks revenge against Dominic Tor...</td>\n",
       "    </tr>\n",
       "  </tbody>\n",
       "</table>\n",
       "</div>"
      ],
      "text/plain": [
       "       Id                         Title  \\\n",
       "0  135397                Jurassic World   \n",
       "1   76341            Mad Max: Fury Road   \n",
       "2  262500                     Insurgent   \n",
       "3  140607  Star Wars: The Force Awakens   \n",
       "4  168259                     Furious 7   \n",
       "\n",
       "                                                 Tag  \n",
       "0  Twenty-two years after the events of Jurassic ...  \n",
       "1  An apocalyptic story set in the furthest reach...  \n",
       "2  Beatrice Prior must confront her inner demons ...  \n",
       "3  Thirty years after defeating the Galactic Empi...  \n",
       "4  Deckard Shaw seeks revenge against Dominic Tor...  "
      ]
     },
     "execution_count": 4,
     "metadata": {},
     "output_type": "execute_result"
    }
   ],
   "source": [
    "movies.head(5)"
   ]
  },
  {
   "cell_type": "code",
   "execution_count": 5,
   "id": "0290ea0a",
   "metadata": {},
   "outputs": [
    {
     "name": "stdout",
     "output_type": "stream",
     "text": [
      "<class 'pandas.core.frame.DataFrame'>\n",
      "RangeIndex: 10866 entries, 0 to 10865\n",
      "Data columns (total 3 columns):\n",
      " #   Column  Non-Null Count  Dtype \n",
      "---  ------  --------------  ----- \n",
      " 0   Id      10866 non-null  int64 \n",
      " 1   Title   10866 non-null  object\n",
      " 2   Tag     10840 non-null  object\n",
      "dtypes: int64(1), object(2)\n",
      "memory usage: 254.8+ KB\n"
     ]
    }
   ],
   "source": [
    "movies.info()"
   ]
  },
  {
   "cell_type": "code",
   "execution_count": 6,
   "id": "70b5ae1c",
   "metadata": {},
   "outputs": [
    {
     "data": {
      "text/plain": [
       "Id        0\n",
       "Title     0\n",
       "Tag      26\n",
       "dtype: int64"
      ]
     },
     "execution_count": 6,
     "metadata": {},
     "output_type": "execute_result"
    }
   ],
   "source": [
    "movies.isnull().sum()"
   ]
  },
  {
   "cell_type": "code",
   "execution_count": 20,
   "id": "0d8583be",
   "metadata": {},
   "outputs": [
    {
     "data": {
      "text/html": [
       "<div>\n",
       "<style scoped>\n",
       "    .dataframe tbody tr th:only-of-type {\n",
       "        vertical-align: middle;\n",
       "    }\n",
       "\n",
       "    .dataframe tbody tr th {\n",
       "        vertical-align: top;\n",
       "    }\n",
       "\n",
       "    .dataframe thead th {\n",
       "        text-align: right;\n",
       "    }\n",
       "</style>\n",
       "<table border=\"1\" class=\"dataframe\">\n",
       "  <thead>\n",
       "    <tr style=\"text-align: right;\">\n",
       "      <th></th>\n",
       "      <th>Id</th>\n",
       "      <th>Title</th>\n",
       "      <th>Tag</th>\n",
       "    </tr>\n",
       "  </thead>\n",
       "  <tbody>\n",
       "    <tr>\n",
       "      <th>0</th>\n",
       "      <td>135397</td>\n",
       "      <td>Jurassic World</td>\n",
       "      <td>Twenty-two years after the events of Jurassic ...</td>\n",
       "    </tr>\n",
       "    <tr>\n",
       "      <th>1</th>\n",
       "      <td>76341</td>\n",
       "      <td>Mad Max: Fury Road</td>\n",
       "      <td>An apocalyptic story set in the furthest reach...</td>\n",
       "    </tr>\n",
       "    <tr>\n",
       "      <th>2</th>\n",
       "      <td>262500</td>\n",
       "      <td>Insurgent</td>\n",
       "      <td>Beatrice Prior must confront her inner demons ...</td>\n",
       "    </tr>\n",
       "    <tr>\n",
       "      <th>3</th>\n",
       "      <td>140607</td>\n",
       "      <td>Star Wars: The Force Awakens</td>\n",
       "      <td>Thirty years after defeating the Galactic Empi...</td>\n",
       "    </tr>\n",
       "    <tr>\n",
       "      <th>4</th>\n",
       "      <td>168259</td>\n",
       "      <td>Furious 7</td>\n",
       "      <td>Deckard Shaw seeks revenge against Dominic Tor...</td>\n",
       "    </tr>\n",
       "    <tr>\n",
       "      <th>...</th>\n",
       "      <td>...</td>\n",
       "      <td>...</td>\n",
       "      <td>...</td>\n",
       "    </tr>\n",
       "    <tr>\n",
       "      <th>9860</th>\n",
       "      <td>42995</td>\n",
       "      <td>Experiment in Terror</td>\n",
       "      <td>Kelly Sherwood is terrorized by a man with an ...</td>\n",
       "    </tr>\n",
       "    <tr>\n",
       "      <th>9861</th>\n",
       "      <td>16103</td>\n",
       "      <td>The Loneliness of the Long Distance Runner</td>\n",
       "      <td>A rebellious youth, sentenced to a boy's refor...</td>\n",
       "    </tr>\n",
       "    <tr>\n",
       "      <th>9862</th>\n",
       "      <td>13671</td>\n",
       "      <td>The Music Man</td>\n",
       "      <td>A con man comes to an Iowa town with a scam us...</td>\n",
       "    </tr>\n",
       "    <tr>\n",
       "      <th>9863</th>\n",
       "      <td>19201</td>\n",
       "      <td>Captain Clegg</td>\n",
       "      <td>What secret lay behind the dreaded Marsh Phant...</td>\n",
       "    </tr>\n",
       "    <tr>\n",
       "      <th>9864</th>\n",
       "      <td>10242</td>\n",
       "      <td>What Ever Happened to Baby Jane?</td>\n",
       "      <td>Two aging film actresses live as virtual reclu...</td>\n",
       "    </tr>\n",
       "  </tbody>\n",
       "</table>\n",
       "<p>9865 rows × 3 columns</p>\n",
       "</div>"
      ],
      "text/plain": [
       "          Id                                       Title  \\\n",
       "0     135397                              Jurassic World   \n",
       "1      76341                          Mad Max: Fury Road   \n",
       "2     262500                                   Insurgent   \n",
       "3     140607                Star Wars: The Force Awakens   \n",
       "4     168259                                   Furious 7   \n",
       "...      ...                                         ...   \n",
       "9860   42995                        Experiment in Terror   \n",
       "9861   16103  The Loneliness of the Long Distance Runner   \n",
       "9862   13671                               The Music Man   \n",
       "9863   19201                               Captain Clegg   \n",
       "9864   10242            What Ever Happened to Baby Jane?   \n",
       "\n",
       "                                                    Tag  \n",
       "0     Twenty-two years after the events of Jurassic ...  \n",
       "1     An apocalyptic story set in the furthest reach...  \n",
       "2     Beatrice Prior must confront her inner demons ...  \n",
       "3     Thirty years after defeating the Galactic Empi...  \n",
       "4     Deckard Shaw seeks revenge against Dominic Tor...  \n",
       "...                                                 ...  \n",
       "9860  Kelly Sherwood is terrorized by a man with an ...  \n",
       "9861  A rebellious youth, sentenced to a boy's refor...  \n",
       "9862  A con man comes to an Iowa town with a scam us...  \n",
       "9863  What secret lay behind the dreaded Marsh Phant...  \n",
       "9864  Two aging film actresses live as virtual reclu...  \n",
       "\n",
       "[9865 rows x 3 columns]"
      ]
     },
     "execution_count": 20,
     "metadata": {},
     "output_type": "execute_result"
    }
   ],
   "source": [
    "movies"
   ]
  },
  {
   "cell_type": "code",
   "execution_count": null,
   "id": "644b9cdc",
   "metadata": {},
   "outputs": [],
   "source": [
    "movies['tags']=movies['overview']+movies['genres']\n",
    "movies"
   ]
  },
  {
   "cell_type": "code",
   "execution_count": null,
   "id": "536a8d61",
   "metadata": {},
   "outputs": [],
   "source": [
    "movies=movies.drop(columns=['overview','genres'])\n",
    "movies"
   ]
  },
  {
   "cell_type": "code",
   "execution_count": null,
   "id": "e9e01eeb",
   "metadata": {},
   "outputs": [],
   "source": [
    "column_renamed={'id':'Id','original_title':'Title','tags':'Tag'}\n",
    "movies.rename(columns=column_renamed,inplace=True)\n",
    "movies.to_csv('Dataset_Tmdb.csv', index=False, mode='w')\n",
    "movies"
   ]
  },
  {
   "cell_type": "code",
   "execution_count": 8,
   "id": "26139afe",
   "metadata": {},
   "outputs": [],
   "source": [
    "movies = movies.drop(movies.index[-865:])"
   ]
  },
  {
   "cell_type": "code",
   "execution_count": 9,
   "id": "7b7a8dbd",
   "metadata": {},
   "outputs": [
    {
     "data": {
      "text/html": [
       "<div>\n",
       "<style scoped>\n",
       "    .dataframe tbody tr th:only-of-type {\n",
       "        vertical-align: middle;\n",
       "    }\n",
       "\n",
       "    .dataframe tbody tr th {\n",
       "        vertical-align: top;\n",
       "    }\n",
       "\n",
       "    .dataframe thead th {\n",
       "        text-align: right;\n",
       "    }\n",
       "</style>\n",
       "<table border=\"1\" class=\"dataframe\">\n",
       "  <thead>\n",
       "    <tr style=\"text-align: right;\">\n",
       "      <th></th>\n",
       "      <th>Id</th>\n",
       "      <th>Title</th>\n",
       "      <th>Tag</th>\n",
       "    </tr>\n",
       "  </thead>\n",
       "  <tbody>\n",
       "    <tr>\n",
       "      <th>0</th>\n",
       "      <td>135397</td>\n",
       "      <td>Jurassic World</td>\n",
       "      <td>Twenty-two years after the events of Jurassic ...</td>\n",
       "    </tr>\n",
       "    <tr>\n",
       "      <th>1</th>\n",
       "      <td>76341</td>\n",
       "      <td>Mad Max: Fury Road</td>\n",
       "      <td>An apocalyptic story set in the furthest reach...</td>\n",
       "    </tr>\n",
       "    <tr>\n",
       "      <th>2</th>\n",
       "      <td>262500</td>\n",
       "      <td>Insurgent</td>\n",
       "      <td>Beatrice Prior must confront her inner demons ...</td>\n",
       "    </tr>\n",
       "    <tr>\n",
       "      <th>3</th>\n",
       "      <td>140607</td>\n",
       "      <td>Star Wars: The Force Awakens</td>\n",
       "      <td>Thirty years after defeating the Galactic Empi...</td>\n",
       "    </tr>\n",
       "    <tr>\n",
       "      <th>4</th>\n",
       "      <td>168259</td>\n",
       "      <td>Furious 7</td>\n",
       "      <td>Deckard Shaw seeks revenge against Dominic Tor...</td>\n",
       "    </tr>\n",
       "    <tr>\n",
       "      <th>...</th>\n",
       "      <td>...</td>\n",
       "      <td>...</td>\n",
       "      <td>...</td>\n",
       "    </tr>\n",
       "    <tr>\n",
       "      <th>9861</th>\n",
       "      <td>16103</td>\n",
       "      <td>The Loneliness of the Long Distance Runner</td>\n",
       "      <td>A rebellious youth, sentenced to a boy's refor...</td>\n",
       "    </tr>\n",
       "    <tr>\n",
       "      <th>9862</th>\n",
       "      <td>13671</td>\n",
       "      <td>The Music Man</td>\n",
       "      <td>A con man comes to an Iowa town with a scam us...</td>\n",
       "    </tr>\n",
       "    <tr>\n",
       "      <th>9863</th>\n",
       "      <td>19201</td>\n",
       "      <td>Captain Clegg</td>\n",
       "      <td>What secret lay behind the dreaded Marsh Phant...</td>\n",
       "    </tr>\n",
       "    <tr>\n",
       "      <th>9864</th>\n",
       "      <td>10242</td>\n",
       "      <td>What Ever Happened to Baby Jane?</td>\n",
       "      <td>Two aging film actresses live as virtual reclu...</td>\n",
       "    </tr>\n",
       "    <tr>\n",
       "      <th>9865</th>\n",
       "      <td>3009</td>\n",
       "      <td>Le procÃ¨s</td>\n",
       "      <td>An unassuming office worker is arrested and st...</td>\n",
       "    </tr>\n",
       "  </tbody>\n",
       "</table>\n",
       "<p>9866 rows × 3 columns</p>\n",
       "</div>"
      ],
      "text/plain": [
       "          Id                                       Title  \\\n",
       "0     135397                              Jurassic World   \n",
       "1      76341                          Mad Max: Fury Road   \n",
       "2     262500                                   Insurgent   \n",
       "3     140607                Star Wars: The Force Awakens   \n",
       "4     168259                                   Furious 7   \n",
       "...      ...                                         ...   \n",
       "9861   16103  The Loneliness of the Long Distance Runner   \n",
       "9862   13671                               The Music Man   \n",
       "9863   19201                               Captain Clegg   \n",
       "9864   10242            What Ever Happened to Baby Jane?   \n",
       "9865    3009                                  Le procÃ¨s   \n",
       "\n",
       "                                                    Tag  \n",
       "0     Twenty-two years after the events of Jurassic ...  \n",
       "1     An apocalyptic story set in the furthest reach...  \n",
       "2     Beatrice Prior must confront her inner demons ...  \n",
       "3     Thirty years after defeating the Galactic Empi...  \n",
       "4     Deckard Shaw seeks revenge against Dominic Tor...  \n",
       "...                                                 ...  \n",
       "9861  A rebellious youth, sentenced to a boy's refor...  \n",
       "9862  A con man comes to an Iowa town with a scam us...  \n",
       "9863  What secret lay behind the dreaded Marsh Phant...  \n",
       "9864  Two aging film actresses live as virtual reclu...  \n",
       "9865  An unassuming office worker is arrested and st...  \n",
       "\n",
       "[9866 rows x 3 columns]"
      ]
     },
     "execution_count": 9,
     "metadata": {},
     "output_type": "execute_result"
    }
   ],
   "source": [
    "movies = movies.drop(movies.index[-135:])\n",
    "movies"
   ]
  },
  {
   "cell_type": "code",
   "execution_count": 10,
   "id": "7a308166",
   "metadata": {},
   "outputs": [
    {
     "data": {
      "text/html": [
       "<div>\n",
       "<style scoped>\n",
       "    .dataframe tbody tr th:only-of-type {\n",
       "        vertical-align: middle;\n",
       "    }\n",
       "\n",
       "    .dataframe tbody tr th {\n",
       "        vertical-align: top;\n",
       "    }\n",
       "\n",
       "    .dataframe thead th {\n",
       "        text-align: right;\n",
       "    }\n",
       "</style>\n",
       "<table border=\"1\" class=\"dataframe\">\n",
       "  <thead>\n",
       "    <tr style=\"text-align: right;\">\n",
       "      <th></th>\n",
       "      <th>Id</th>\n",
       "      <th>Title</th>\n",
       "      <th>Tag</th>\n",
       "    </tr>\n",
       "  </thead>\n",
       "  <tbody>\n",
       "    <tr>\n",
       "      <th>0</th>\n",
       "      <td>135397</td>\n",
       "      <td>Jurassic World</td>\n",
       "      <td>Twenty-two years after the events of Jurassic ...</td>\n",
       "    </tr>\n",
       "    <tr>\n",
       "      <th>1</th>\n",
       "      <td>76341</td>\n",
       "      <td>Mad Max: Fury Road</td>\n",
       "      <td>An apocalyptic story set in the furthest reach...</td>\n",
       "    </tr>\n",
       "    <tr>\n",
       "      <th>2</th>\n",
       "      <td>262500</td>\n",
       "      <td>Insurgent</td>\n",
       "      <td>Beatrice Prior must confront her inner demons ...</td>\n",
       "    </tr>\n",
       "    <tr>\n",
       "      <th>3</th>\n",
       "      <td>140607</td>\n",
       "      <td>Star Wars: The Force Awakens</td>\n",
       "      <td>Thirty years after defeating the Galactic Empi...</td>\n",
       "    </tr>\n",
       "    <tr>\n",
       "      <th>4</th>\n",
       "      <td>168259</td>\n",
       "      <td>Furious 7</td>\n",
       "      <td>Deckard Shaw seeks revenge against Dominic Tor...</td>\n",
       "    </tr>\n",
       "    <tr>\n",
       "      <th>...</th>\n",
       "      <td>...</td>\n",
       "      <td>...</td>\n",
       "      <td>...</td>\n",
       "    </tr>\n",
       "    <tr>\n",
       "      <th>9860</th>\n",
       "      <td>42995</td>\n",
       "      <td>Experiment in Terror</td>\n",
       "      <td>Kelly Sherwood is terrorized by a man with an ...</td>\n",
       "    </tr>\n",
       "    <tr>\n",
       "      <th>9861</th>\n",
       "      <td>16103</td>\n",
       "      <td>The Loneliness of the Long Distance Runner</td>\n",
       "      <td>A rebellious youth, sentenced to a boy's refor...</td>\n",
       "    </tr>\n",
       "    <tr>\n",
       "      <th>9862</th>\n",
       "      <td>13671</td>\n",
       "      <td>The Music Man</td>\n",
       "      <td>A con man comes to an Iowa town with a scam us...</td>\n",
       "    </tr>\n",
       "    <tr>\n",
       "      <th>9863</th>\n",
       "      <td>19201</td>\n",
       "      <td>Captain Clegg</td>\n",
       "      <td>What secret lay behind the dreaded Marsh Phant...</td>\n",
       "    </tr>\n",
       "    <tr>\n",
       "      <th>9864</th>\n",
       "      <td>10242</td>\n",
       "      <td>What Ever Happened to Baby Jane?</td>\n",
       "      <td>Two aging film actresses live as virtual reclu...</td>\n",
       "    </tr>\n",
       "  </tbody>\n",
       "</table>\n",
       "<p>9865 rows × 3 columns</p>\n",
       "</div>"
      ],
      "text/plain": [
       "          Id                                       Title  \\\n",
       "0     135397                              Jurassic World   \n",
       "1      76341                          Mad Max: Fury Road   \n",
       "2     262500                                   Insurgent   \n",
       "3     140607                Star Wars: The Force Awakens   \n",
       "4     168259                                   Furious 7   \n",
       "...      ...                                         ...   \n",
       "9860   42995                        Experiment in Terror   \n",
       "9861   16103  The Loneliness of the Long Distance Runner   \n",
       "9862   13671                               The Music Man   \n",
       "9863   19201                               Captain Clegg   \n",
       "9864   10242            What Ever Happened to Baby Jane?   \n",
       "\n",
       "                                                    Tag  \n",
       "0     Twenty-two years after the events of Jurassic ...  \n",
       "1     An apocalyptic story set in the furthest reach...  \n",
       "2     Beatrice Prior must confront her inner demons ...  \n",
       "3     Thirty years after defeating the Galactic Empi...  \n",
       "4     Deckard Shaw seeks revenge against Dominic Tor...  \n",
       "...                                                 ...  \n",
       "9860  Kelly Sherwood is terrorized by a man with an ...  \n",
       "9861  A rebellious youth, sentenced to a boy's refor...  \n",
       "9862  A con man comes to an Iowa town with a scam us...  \n",
       "9863  What secret lay behind the dreaded Marsh Phant...  \n",
       "9864  Two aging film actresses live as virtual reclu...  \n",
       "\n",
       "[9865 rows x 3 columns]"
      ]
     },
     "execution_count": 10,
     "metadata": {},
     "output_type": "execute_result"
    }
   ],
   "source": [
    "movies = movies.drop(movies.index[-1:])\n",
    "movies"
   ]
  },
  {
   "cell_type": "code",
   "execution_count": 11,
   "id": "b976368f",
   "metadata": {},
   "outputs": [],
   "source": [
    "from sklearn.feature_extraction.text import CountVectorizer"
   ]
  },
  {
   "cell_type": "code",
   "execution_count": 12,
   "id": "880178db",
   "metadata": {},
   "outputs": [],
   "source": [
    "cv=CountVectorizer(max_features=9000,stop_words='english')"
   ]
  },
  {
   "cell_type": "code",
   "execution_count": 13,
   "id": "3ddf89c0",
   "metadata": {},
   "outputs": [],
   "source": [
    "vector=cv.fit_transform(movies['Tag'].values.astype('U')).toarray()"
   ]
  },
  {
   "cell_type": "code",
   "execution_count": 14,
   "id": "97320d35",
   "metadata": {},
   "outputs": [
    {
     "data": {
      "text/plain": [
       "(9865, 9000)"
      ]
     },
     "execution_count": 14,
     "metadata": {},
     "output_type": "execute_result"
    }
   ],
   "source": [
    "vector.shape"
   ]
  },
  {
   "cell_type": "code",
   "execution_count": 15,
   "id": "ffa0ccd5",
   "metadata": {},
   "outputs": [],
   "source": [
    "from sklearn.metrics.pairwise import cosine_similarity"
   ]
  },
  {
   "cell_type": "code",
   "execution_count": 16,
   "id": "05a10473",
   "metadata": {},
   "outputs": [],
   "source": [
    "similarity=cosine_similarity(vector)"
   ]
  },
  {
   "cell_type": "code",
   "execution_count": 17,
   "id": "1786e1e7",
   "metadata": {},
   "outputs": [
    {
     "data": {
      "text/plain": [
       "array([[1.        , 0.2057378 , 0.19802951, ..., 0.        , 0.03187884,\n",
       "        0.070014  ],\n",
       "       [0.2057378 , 1.        , 0.12222647, ..., 0.06299408, 0.01967604,\n",
       "        0.04321358],\n",
       "       [0.19802951, 0.12222647, 1.        , ..., 0.        , 0.0378777 ,\n",
       "        0.04159452],\n",
       "       ...,\n",
       "       [0.        , 0.06299408, 0.        , ..., 1.        , 0.        ,\n",
       "        0.        ],\n",
       "       [0.03187884, 0.01967604, 0.0378777 , ..., 0.        , 1.        ,\n",
       "        0.02678358],\n",
       "       [0.070014  , 0.04321358, 0.04159452, ..., 0.        , 0.02678358,\n",
       "        1.        ]])"
      ]
     },
     "execution_count": 17,
     "metadata": {},
     "output_type": "execute_result"
    }
   ],
   "source": [
    "similarity"
   ]
  },
  {
   "cell_type": "code",
   "execution_count": 18,
   "id": "666ae022",
   "metadata": {},
   "outputs": [],
   "source": [
    "def recommend(movie_title):\n",
    "    index= movies[movies['Title']==movie_title].index[0]\n",
    "    distance=sorted(list(enumerate(similarity[index])),reverse=True,key=lambda vector:vector[1])\n",
    "    for i in distance[0:11]:\n",
    "        print(movies.iloc[i[0]].Title)"
   ]
  },
  {
   "cell_type": "code",
   "execution_count": 19,
   "id": "5307ffc1",
   "metadata": {},
   "outputs": [
    {
     "name": "stdout",
     "output_type": "stream",
     "text": [
      "Furious 7\n",
      "Savage Streets\n",
      "Fast & Furious 6\n",
      "Patriot Games\n",
      "Transit\n",
      "Urban Justice\n",
      "The Fast and the Furious\n",
      "Tokarev\n",
      "Dead Man's Shoes\n",
      "The River Wild\n",
      "Foxy Brown\n",
      "None\n"
     ]
    }
   ],
   "source": [
    "recommendations = recommend(\"Furious 7\")\n",
    "print(recommendations)"
   ]
  },
  {
   "cell_type": "code",
   "execution_count": null,
   "id": "80a3f34d",
   "metadata": {},
   "outputs": [],
   "source": []
  },
  {
   "cell_type": "code",
   "execution_count": null,
   "id": "b24f3180",
   "metadata": {},
   "outputs": [],
   "source": []
  },
  {
   "cell_type": "code",
   "execution_count": null,
   "id": "1c35c299",
   "metadata": {},
   "outputs": [],
   "source": []
  },
  {
   "cell_type": "code",
   "execution_count": null,
   "id": "1599944f",
   "metadata": {},
   "outputs": [],
   "source": []
  },
  {
   "cell_type": "code",
   "execution_count": null,
   "id": "021fcbe1",
   "metadata": {},
   "outputs": [],
   "source": []
  },
  {
   "cell_type": "code",
   "execution_count": null,
   "id": "8fec9768",
   "metadata": {},
   "outputs": [],
   "source": []
  },
  {
   "cell_type": "code",
   "execution_count": null,
   "id": "a9b80967",
   "metadata": {},
   "outputs": [],
   "source": []
  },
  {
   "cell_type": "code",
   "execution_count": null,
   "id": "619a6a91",
   "metadata": {},
   "outputs": [],
   "source": []
  },
  {
   "cell_type": "code",
   "execution_count": null,
   "id": "41389bd9",
   "metadata": {},
   "outputs": [],
   "source": []
  }
 ],
 "metadata": {
  "kernelspec": {
   "display_name": "Python 3 (ipykernel)",
   "language": "python",
   "name": "python3"
  },
  "language_info": {
   "codemirror_mode": {
    "name": "ipython",
    "version": 3
   },
   "file_extension": ".py",
   "mimetype": "text/x-python",
   "name": "python",
   "nbconvert_exporter": "python",
   "pygments_lexer": "ipython3",
   "version": "3.10.9"
  }
 },
 "nbformat": 4,
 "nbformat_minor": 5
}
